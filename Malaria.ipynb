{
 "cells": [
  {
   "cell_type": "markdown",
   "id": "3f4aa3d8-b712-4d9e-853f-2990dbae1ba3",
   "metadata": {},
   "source": [
    "## Importing the required libraries"
   ]
  },
  {
   "cell_type": "code",
   "execution_count": 1,
   "id": "4a17d562-b569-477f-92a5-f6cf219b4682",
   "metadata": {},
   "outputs": [
    {
     "name": "stderr",
     "output_type": "stream",
     "text": [
      "2024-05-23 21:44:19.992316: I tensorflow/tsl/cuda/cudart_stub.cc:28] Could not find cuda drivers on your machine, GPU will not be used.\n",
      "2024-05-23 21:44:21.013591: I tensorflow/tsl/cuda/cudart_stub.cc:28] Could not find cuda drivers on your machine, GPU will not be used.\n",
      "2024-05-23 21:44:21.030391: I tensorflow/core/platform/cpu_feature_guard.cc:182] This TensorFlow binary is optimized to use available CPU instructions in performance-critical operations.\n",
      "To enable the following instructions: AVX2 FMA, in other operations, rebuild TensorFlow with the appropriate compiler flags.\n",
      "2024-05-23 21:44:25.018473: W tensorflow/compiler/tf2tensorrt/utils/py_utils.cc:38] TF-TRT Warning: Could not find TensorRT\n"
     ]
    }
   ],
   "source": [
    "import os\n",
    "import tensorflow as tf\n",
    "from tensorflow.keras.preprocessing.image import ImageDataGenerator\n",
    "from tensorflow.keras.models import Sequential\n",
    "from tensorflow.keras.layers import Conv2D, MaxPooling2D, Flatten, Dense, Dropout\n",
    "from tensorflow.keras.optimizers import Adam\n",
    "import matplotlib.pyplot as plt\n",
    "from tensorflow.keras.callbacks import EarlyStopping"
   ]
  },
  {
   "cell_type": "markdown",
   "id": "6c1df33a-ed1d-4161-af8e-8a99f84b225c",
   "metadata": {},
   "source": [
    "## Location of my base directory which contains 'Uninfected', 'Parasitized' sub-directories"
   ]
  },
  {
   "cell_type": "code",
   "execution_count": 2,
   "id": "fb62615d-2129-4219-8983-5da9645efdc8",
   "metadata": {},
   "outputs": [],
   "source": [
    "base_dir = 'Data/cell_images'"
   ]
  },
  {
   "cell_type": "markdown",
   "id": "8123c40d-ac86-475c-9588-6805b3b0e925",
   "metadata": {},
   "source": [
    "## Creating ImageDataGenerators for training and validation sets"
   ]
  },
  {
   "cell_type": "code",
   "execution_count": 3,
   "id": "9407b7d6-66f0-4bff-a58d-20118f64e7e4",
   "metadata": {},
   "outputs": [],
   "source": [
    "datagen = ImageDataGenerator(\n",
    "    rescale=1.0/255.0,\n",
    "    rotation_range=40,\n",
    "    width_shift_range=0.2,\n",
    "    height_shift_range=0.2,\n",
    "    shear_range=0.2,\n",
    "    zoom_range=0.2,\n",
    "    horizontal_flip=True,\n",
    "    fill_mode='nearest',\n",
    "    validation_split=0.2  # Use 20% of the data for validation\n",
    ")"
   ]
  },
  {
   "cell_type": "code",
   "execution_count": 4,
   "id": "1ee78d92-01de-4062-b12e-37f7ce0e02b0",
   "metadata": {},
   "outputs": [
    {
     "name": "stdout",
     "output_type": "stream",
     "text": [
      "Found 22048 images belonging to 2 classes.\n"
     ]
    }
   ],
   "source": [
    "train_generator = datagen.flow_from_directory(\n",
    "    base_dir,\n",
    "    target_size=(128, 128),  # Smaller image size to reduce memory usage\n",
    "    batch_size=16,           # Smaller batch size to reduce memory usage\n",
    "    class_mode='binary',\n",
    "    subset='training'\n",
    ")"
   ]
  },
  {
   "cell_type": "code",
   "execution_count": 5,
   "id": "bdaf4d2b-a1e8-4dba-968f-78f9c054a1a7",
   "metadata": {},
   "outputs": [
    {
     "name": "stdout",
     "output_type": "stream",
     "text": [
      "Found 5510 images belonging to 2 classes.\n"
     ]
    }
   ],
   "source": [
    "validation_generator = datagen.flow_from_directory(\n",
    "    base_dir,\n",
    "    target_size=(128, 128),  # Smaller image size to reduce memory usage\n",
    "    batch_size=16,           # Smaller batch size to reduce memory usage\n",
    "    class_mode='binary',\n",
    "    subset='validation'\n",
    ")"
   ]
  },
  {
   "cell_type": "markdown",
   "id": "d74bafaf-bc5c-437c-91e5-47c19abdbbce",
   "metadata": {},
   "source": [
    "## Building the CNN model"
   ]
  },
  {
   "cell_type": "code",
   "execution_count": 6,
   "id": "2e97dcd3-5ab5-4ae6-8d15-cfe6aa2b100f",
   "metadata": {},
   "outputs": [
    {
     "name": "stderr",
     "output_type": "stream",
     "text": [
      "2024-05-23 21:44:37.530110: I tensorflow/compiler/xla/stream_executor/cuda/cuda_gpu_executor.cc:982] could not open file to read NUMA node: /sys/bus/pci/devices/0000:01:00.0/numa_node\n",
      "Your kernel may have been built without NUMA support.\n",
      "2024-05-23 21:44:37.531186: W tensorflow/core/common_runtime/gpu/gpu_device.cc:1956] Cannot dlopen some GPU libraries. Please make sure the missing libraries mentioned above are installed properly if you would like to use GPU. Follow the guide at https://www.tensorflow.org/install/gpu for how to download and setup the required libraries for your platform.\n",
      "Skipping registering GPU devices...\n"
     ]
    }
   ],
   "source": [
    "model = Sequential([\n",
    "    Conv2D(32, (3, 3), activation='relu', input_shape=(128, 128, 3)),\n",
    "    MaxPooling2D((2, 2)),\n",
    "    Conv2D(64, (3, 3), activation='relu'),\n",
    "    MaxPooling2D((2, 2)),\n",
    "    Conv2D(128, (3, 3), activation='relu'),\n",
    "    MaxPooling2D((2, 2)),\n",
    "    Conv2D(128, (3, 3), activation='relu'),\n",
    "    MaxPooling2D((2, 2)),\n",
    "    Flatten(),\n",
    "    Dense(512, activation='relu'),\n",
    "    Dropout(0.5),\n",
    "    Dense(1, activation='sigmoid')\n",
    "])"
   ]
  },
  {
   "cell_type": "markdown",
   "id": "2b725fb1-3ab1-4b4d-9d3c-5361bb0f5fa8",
   "metadata": {},
   "source": [
    "## Compiling the model"
   ]
  },
  {
   "cell_type": "code",
   "execution_count": 7,
   "id": "62ca8690-1441-4da5-97e8-20d2bb5b599c",
   "metadata": {},
   "outputs": [],
   "source": [
    "model.compile(\n",
    "    loss='binary_crossentropy',\n",
    "    optimizer=Adam(learning_rate=0.001),\n",
    "    metrics=['accuracy']\n",
    ")"
   ]
  },
  {
   "cell_type": "code",
   "execution_count": 8,
   "id": "0562f1e5-e75d-46c0-93f1-0d62f9455aa4",
   "metadata": {},
   "outputs": [
    {
     "name": "stdout",
     "output_type": "stream",
     "text": [
      "Model: \"sequential\"\n",
      "_________________________________________________________________\n",
      " Layer (type)                Output Shape              Param #   \n",
      "=================================================================\n",
      " conv2d (Conv2D)             (None, 126, 126, 32)      896       \n",
      "                                                                 \n",
      " max_pooling2d (MaxPooling2D  (None, 63, 63, 32)       0         \n",
      " )                                                               \n",
      "                                                                 \n",
      " conv2d_1 (Conv2D)           (None, 61, 61, 64)        18496     \n",
      "                                                                 \n",
      " max_pooling2d_1 (MaxPooling  (None, 30, 30, 64)       0         \n",
      " 2D)                                                             \n",
      "                                                                 \n",
      " conv2d_2 (Conv2D)           (None, 28, 28, 128)       73856     \n",
      "                                                                 \n",
      " max_pooling2d_2 (MaxPooling  (None, 14, 14, 128)      0         \n",
      " 2D)                                                             \n",
      "                                                                 \n",
      " conv2d_3 (Conv2D)           (None, 12, 12, 128)       147584    \n",
      "                                                                 \n",
      " max_pooling2d_3 (MaxPooling  (None, 6, 6, 128)        0         \n",
      " 2D)                                                             \n",
      "                                                                 \n",
      " flatten (Flatten)           (None, 4608)              0         \n",
      "                                                                 \n",
      " dense (Dense)               (None, 512)               2359808   \n",
      "                                                                 \n",
      " dropout (Dropout)           (None, 512)               0         \n",
      "                                                                 \n",
      " dense_1 (Dense)             (None, 1)                 513       \n",
      "                                                                 \n",
      "=================================================================\n",
      "Total params: 2,601,153\n",
      "Trainable params: 2,601,153\n",
      "Non-trainable params: 0\n",
      "_________________________________________________________________\n"
     ]
    }
   ],
   "source": [
    "model.summary()"
   ]
  },
  {
   "cell_type": "markdown",
   "id": "ab5091ef-18d2-4500-a83b-51c03bbb240f",
   "metadata": {},
   "source": [
    "## Early stopping callback for better memory consumption"
   ]
  },
  {
   "cell_type": "code",
   "execution_count": 9,
   "id": "4830f212-8f65-4571-b3dd-8e5bfaab6a58",
   "metadata": {},
   "outputs": [],
   "source": [
    "early_stopping = EarlyStopping(\n",
    "    monitor='val_loss',  # Monitor the validation loss\n",
    "    patience=5,          # Number of epochs with no improvement after which training will be stopped\n",
    "    restore_best_weights=True  # Restore the weights of the best epoch\n",
    ")"
   ]
  },
  {
   "cell_type": "markdown",
   "id": "21e8e3d4-ea00-4e9c-b0cb-70eb0633b1e5",
   "metadata": {},
   "source": [
    "## Train the model"
   ]
  },
  {
   "cell_type": "code",
   "execution_count": 10,
   "id": "7ea5b340-5e6b-4b9c-a20b-75e80c8ee1ee",
   "metadata": {},
   "outputs": [
    {
     "name": "stdout",
     "output_type": "stream",
     "text": [
      "Epoch 1/2\n"
     ]
    },
    {
     "name": "stderr",
     "output_type": "stream",
     "text": [
      "2024-05-23 21:44:38.148521: I tensorflow/core/common_runtime/executor.cc:1197] [/device:CPU:0] (DEBUG INFO) Executor start aborting (this does not indicate an error and you can ignore this message): INVALID_ARGUMENT: You must feed a value for placeholder tensor 'Placeholder/_0' with dtype int32\n",
      "\t [[{{node Placeholder/_0}}]]\n"
     ]
    },
    {
     "name": "stdout",
     "output_type": "stream",
     "text": [
      "1378/1378 [==============================] - ETA: 0s - loss: 0.4452 - accuracy: 0.7730"
     ]
    },
    {
     "name": "stderr",
     "output_type": "stream",
     "text": [
      "2024-05-23 21:53:14.879938: I tensorflow/core/common_runtime/executor.cc:1197] [/device:CPU:0] (DEBUG INFO) Executor start aborting (this does not indicate an error and you can ignore this message): INVALID_ARGUMENT: You must feed a value for placeholder tensor 'Placeholder/_0' with dtype int32\n",
      "\t [[{{node Placeholder/_0}}]]\n"
     ]
    },
    {
     "name": "stdout",
     "output_type": "stream",
     "text": [
      "1378/1378 [==============================] - 557s 403ms/step - loss: 0.4452 - accuracy: 0.7730 - val_loss: 0.2409 - val_accuracy: 0.9126\n",
      "Epoch 2/2\n",
      "1378/1378 [==============================] - 546s 396ms/step - loss: 0.2363 - accuracy: 0.9229 - val_loss: 0.2200 - val_accuracy: 0.9219\n"
     ]
    }
   ],
   "source": [
    "history = model.fit(\n",
    "    train_generator,\n",
    "    steps_per_epoch=train_generator.samples // train_generator.batch_size,\n",
    "    validation_data=validation_generator,\n",
    "    validation_steps=validation_generator.samples // validation_generator.batch_size,\n",
    "    epochs=2,\n",
    "    callbacks=[early_stopping]  # Include the early stopping callback\n",
    ")"
   ]
  },
  {
   "cell_type": "markdown",
   "id": "b8184e4f-bae4-49a7-8548-b1f816c2e753",
   "metadata": {},
   "source": [
    "## Plot the training and validation accuracy and loss"
   ]
  },
  {
   "cell_type": "code",
   "execution_count": 13,
   "id": "38944747-1051-4a12-94c1-e2f237f12825",
   "metadata": {},
   "outputs": [],
   "source": [
    "acc = history.history['accuracy']\n",
    "val_acc = history.history['val_accuracy']\n",
    "loss = history.history['loss']\n",
    "val_loss = history.history['val_loss']"
   ]
  },
  {
   "cell_type": "code",
   "execution_count": 14,
   "id": "9e6cd8c7-bef9-4afb-bad9-f52f7264a998",
   "metadata": {},
   "outputs": [
    {
     "name": "stdout",
     "output_type": "stream",
     "text": [
      "Final Training Accuracy: 0.9228501319885254\n",
      "Final Validation Accuracy: 0.921875\n"
     ]
    }
   ],
   "source": [
    "# Print the final training and validation accuracy\n",
    "print(\"Final Training Accuracy:\", history.history['accuracy'][-1])\n",
    "print(\"Final Validation Accuracy:\", history.history['val_accuracy'][-1])"
   ]
  },
  {
   "cell_type": "code",
   "execution_count": 15,
   "id": "abef0f6e-e5d3-46e5-8a5f-fc066d691eeb",
   "metadata": {},
   "outputs": [],
   "source": [
    "epochs = range(len(acc))"
   ]
  },
  {
   "cell_type": "code",
   "execution_count": 17,
   "id": "2aee0327-0d7b-43ac-95a2-8eb7e4737eec",
   "metadata": {},
   "outputs": [
    {
     "data": {
      "text/plain": [
       "<Figure size 640x480 with 0 Axes>"
      ]
     },
     "execution_count": 17,
     "metadata": {},
     "output_type": "execute_result"
    },
    {
     "data": {
      "image/png": "[encoded data removed]",
      "text/plain": [
       "<Figure size 640x480 with 1 Axes>"
      ]
     },
     "metadata": {},
     "output_type": "display_data"
    },
    {
     "data": {
      "text/plain": [
       "<Figure size 640x480 with 0 Axes>"
      ]
     },
     "metadata": {},
     "output_type": "display_data"
    }
   ],
   "source": [
    "plt.plot(epochs, acc, 'r', label='Training accuracy')\n",
    "plt.plot(epochs, val_acc, 'b', label='Validation accuracy')\n",
    "plt.title('Training and validation accuracy')\n",
    "plt.legend()\n",
    "plt.figure()"
   ]
  },
  {
   "cell_type": "code",
   "execution_count": 19,
   "id": "b2540bc5-818e-4e34-a9ef-5d9da1f2e295",
   "metadata": {},
   "outputs": [
    {
     "data": {
      "image/png": "[encoded data removed]",
      "text/plain": [
       "<Figure size 640x480 with 1 Axes>"
      ]
     },
     "metadata": {},
     "output_type": "display_data"
    }
   ],
   "source": [
    "plt.plot(epochs, loss, 'r', label='Training loss')\n",
    "plt.plot(epochs, val_loss, 'b', label='Validation loss')\n",
    "plt.title('Training and validation loss')\n",
    "plt.legend()\n",
    "plt.show()"
   ]
  },
  {
   "cell_type": "markdown",
   "id": "e7a9378c-82d5-4bfd-b907-bf2b8ca8b469",
   "metadata": {},
   "source": [
    "### Saving the file is big task because github only accepts file <=25mb and my file is larger than it\n",
    "### hence I first quantize it and later saved it "
   ]
  },
  {
   "cell_type": "code",
   "execution_count": 26,
   "id": "c6814b73-1e41-4a86-8934-2d4cd749be37",
   "metadata": {},
   "outputs": [
    {
     "name": "stderr",
     "output_type": "stream",
     "text": [
      "2024-05-23 23:25:29.639840: I tensorflow/core/common_runtime/executor.cc:1197] [/device:CPU:0] (DEBUG INFO) Executor start aborting (this does not indicate an error and you can ignore this message): INVALID_ARGUMENT: You must feed a value for placeholder tensor 'inputs' with dtype float and shape [?,512]\n",
      "\t [[{{node inputs}}]]\n",
      "2024-05-23 23:25:30.002799: I tensorflow/core/common_runtime/executor.cc:1197] [/device:CPU:0] (DEBUG INFO) Executor start aborting (this does not indicate an error and you can ignore this message): INVALID_ARGUMENT: You must feed a value for placeholder tensor 'inputs' with dtype float and shape [?,512]\n",
      "\t [[{{node inputs}}]]\n",
      "WARNING:absl:Found untraced functions such as _jit_compiled_convolution_op, _jit_compiled_convolution_op, _jit_compiled_convolution_op, _jit_compiled_convolution_op, _update_step_xla while saving (showing 5 of 5). These functions will not be directly callable after loading.\n"
     ]
    },
    {
     "name": "stdout",
     "output_type": "stream",
     "text": [
      "INFO:tensorflow:Assets written to: /tmp/tmpbbq2pzey/assets\n"
     ]
    },
    {
     "name": "stderr",
     "output_type": "stream",
     "text": [
      "INFO:tensorflow:Assets written to: /tmp/tmpbbq2pzey/assets\n",
      "2024-05-23 23:25:33.382254: W tensorflow/compiler/mlir/lite/python/tf_tfl_flatbuffer_helpers.cc:364] Ignored output_format.\n",
      "2024-05-23 23:25:33.382327: W tensorflow/compiler/mlir/lite/python/tf_tfl_flatbuffer_helpers.cc:367] Ignored drop_control_dependency.\n",
      "2024-05-23 23:25:33.409981: I tensorflow/cc/saved_model/reader.cc:45] Reading SavedModel from: /tmp/tmpbbq2pzey\n",
      "2024-05-23 23:25:33.411842: I tensorflow/cc/saved_model/reader.cc:89] Reading meta graph with tags { serve }\n",
      "2024-05-23 23:25:33.411888: I tensorflow/cc/saved_model/reader.cc:130] Reading SavedModel debug info (if present) from: /tmp/tmpbbq2pzey\n",
      "2024-05-23 23:25:33.452007: I tensorflow/compiler/mlir/mlir_graph_optimization_pass.cc:353] MLIR V1 optimization pass is not enabled\n",
      "2024-05-23 23:25:33.466068: I tensorflow/cc/saved_model/loader.cc:231] Restoring SavedModel bundle.\n",
      "2024-05-23 23:25:33.879467: I tensorflow/cc/saved_model/loader.cc:215] Running initialization op on SavedModel bundle at path: /tmp/tmpbbq2pzey\n",
      "2024-05-23 23:25:33.891414: I tensorflow/cc/saved_model/loader.cc:314] SavedModel load for tags { serve }; Status: success: OK. Took 481825 microseconds.\n",
      "2024-05-23 23:25:34.644675: I tensorflow/compiler/mlir/tensorflow/utils/dump_mlir_util.cc:269] disabling MLIR crash reproducer, set env var `MLIR_CRASH_REPRODUCER_DIRECTORY` to enable.\n"
     ]
    }
   ],
   "source": [
    "# Quantize the model\n",
    "converter = tf.lite.TFLiteConverter.from_keras_model(model)\n",
    "converter.optimizations = [tf.lite.Optimize.DEFAULT]\n",
    "quantized_model = converter.convert()"
   ]
  },
  {
   "cell_type": "markdown",
   "id": "4a611d97-854b-4668-a198-748a9a49e547",
   "metadata": {},
   "source": [
    "# Save the quantized model to a file"
   ]
  },
  {
   "cell_type": "code",
   "execution_count": 27,
   "id": "093a632f-1bfd-4eef-ad85-45a69cc7bc72",
   "metadata": {},
   "outputs": [],
   "source": [
    "with open('quantized_malaria_classification_model.tflite', 'wb') as f:\n",
    "    f.write(quantized_model)\n"
   ]
  },
  {
   "cell_type": "markdown",
   "id": "8c7916b4-378e-4c29-9333-85dbe783bb91",
   "metadata": {},
   "source": [
    "## Comparison of VGG19 and Resnet50"
   ]
  },
  {
   "cell_type": "markdown",
   "id": "b7f6d4e9-c3eb-4d66-b421-58dc996e7960",
   "metadata": {},
   "source": [
    "After experimenting with different deep learning architectures such as CNN, ResNet50, and VGG19 for malaria cell classification, I found that the accuracy of ResNet50 was comparable to that of the CNN model, while VGG19 lagged behind with an accuracy of around 90%. As a result, I decided not to select VGG19 for this task.\n",
    "One of the key factors in selecting ResNet50 was its performance in terms of accuracy, which was on par with the CNN model. Additionally, I observed that the model size increased after saving, and training the model was time-consuming due to limited computational resources. To address this constraint, I modified the program to train only until the CNN model and saved it for further use."
   ]
  },
  {
   "cell_type": "markdown",
   "id": "dcd157b2-8dee-4775-ac39-ba1226109976",
   "metadata": {},
   "source": [
    "### ResNet50"
   ]
  },
  {
   "cell_type": "code",
   "execution_count": null,
   "id": "a4aae391-638b-4cb8-9e6e-3d60eeecdde7",
   "metadata": {},
   "outputs": [],
   "source": [
    "from tensorflow.keras.applications import ResNet50, VGG19\n",
    "from tensorflow.keras.layers import GlobalAveragePooling2D\n",
    "resnet_base_model = ResNet50(weights='imagenet', include_top=False, input_shape=(150, 150, 3))\n",
    "\n",
    "# Creating a new model with ResNet50 base\n",
    "model_resnet = Sequential([\n",
    "    resnet_base_model,\n",
    "    GlobalAveragePooling2D(),\n",
    "    Dense(512, activation='relu'),\n",
    "    Dropout(0.5),\n",
    "    Dense(1, activation='sigmoid')\n",
    "])\n",
    "\n",
    "# Now Compiling the model\n",
    "model_resnet.compile(\n",
    "    loss='binary_crossentropy',\n",
    "    optimizer=Adam(learning_rate=0.001),\n",
    "    metrics=['accuracy']\n",
    ")\n",
    "\n",
    "# Evaluating the model\n",
    "resnet_evaluation = model_resnet.evaluate(validation_generator)\n",
    "print(\"ResNet Validation Accuracy:\", resnet_evaluation[1])\n"
   ]
  },
  {
   "cell_type": "markdown",
   "id": "b51b5f28-f1e3-4c8d-87e4-85d9819a6fa3",
   "metadata": {},
   "source": [
    "### VGG19"
   ]
  },
  {
   "cell_type": "code",
   "execution_count": null,
   "id": "400f3f42-a472-4de5-a351-fefccec3492c",
   "metadata": {},
   "outputs": [],
   "source": [
    "# Loading the pre-trained VGG19 model without top layers\n",
    "vgg19_base_model = VGG19(weights='imagenet', include_top=False, input_shape=(150, 150, 3))\n",
    "\n",
    "# Creating a new model with VGG19 base\n",
    "model_vgg19 = Sequential([\n",
    "    vgg19_base_model,\n",
    "    GlobalAveragePooling2D(),\n",
    "    Dense(512, activation='relu'),\n",
    "    Dropout(0.5),\n",
    "    Dense(1, activation='sigmoid')\n",
    "])\n",
    "\n",
    "# Now Compiling the model\n",
    "model_vgg19.compile(\n",
    "    loss='binary_crossentropy',\n",
    "    optimizer=Adam(learning_rate=0.001),\n",
    "    metrics=['accuracy']\n",
    ")\n",
    "\n",
    "# Evaluating the model\n",
    "vgg19_evaluation = model_vgg19.evaluate(validation_generator)\n",
    "print(\"VGG19 Validation Accuracy:\", vgg19_evaluation[1])\n"
   ]
  },
  {
   "cell_type": "markdown",
   "id": "0dde4677-7ef1-4716-a187-7ad4902d7498",
   "metadata": {},
   "source": [
    "While I wrote the code for ResNet50 and VGG19 in above cell, I ultimately decided against running them again, because it was taking too much time to run, although I had run this and got the accuracy , but due to the extensive computational resources required , I didn't run in my 2nd time.\n"
   ]
  },
  {
   "cell_type": "markdown",
   "id": "bcb3f13a-b1a5-4baf-90ad-20f38fad9c16",
   "metadata": {},
   "source": [
    "## Conclusion"
   ]
  },
  {
   "cell_type": "markdown",
   "id": "76517fdb-1e6f-409c-a2ee-e8cef8c1c9dd",
   "metadata": {},
   "source": [
    "In conclusion, while ResNet50 and VGG19 may offer potential improvements in accuracy, the associated computational demands necessitated a prioritization of resources. Therefore, I made a strategic decision to concentrate on the CNN model, balancing performance and computational efficiency for the given task. Additionally, it's worth noting that even after saving the ResNet model, the file size exceeded the 25MB limit, posing another practical constraint. This further reinforced the decision to focus on the CNN model, which offered a good balance between accuracy and manageable file size."
   ]
  },
  {
   "cell_type": "code",
   "execution_count": null,
   "id": "cd4b3dc9-feca-4905-9a8b-5f6145ad0ec8",
   "metadata": {},
   "outputs": [],
   "source": []
  }
 ],
 "metadata": {
  "kernelspec": {
   "display_name": "Python 3 (ipykernel)",
   "language": "python",
   "name": "python3"
  },
  "language_info": {
   "codemirror_mode": {
    "name": "ipython",
    "version": 3
   },
   "file_extension": ".py",
   "mimetype": "text/x-python",
   "name": "python",
   "nbconvert_exporter": "python",
   "pygments_lexer": "ipython3",
   "version": "3.9.16"
  }
 },
 "nbformat": 4,
 "nbformat_minor": 5
}
